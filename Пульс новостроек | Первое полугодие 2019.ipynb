{
 "cells": [
  {
   "cell_type": "code",
   "execution_count": 153,
   "metadata": {},
   "outputs": [],
   "source": [
    "import warnings\n",
    "warnings.filterwarnings('ignore')"
   ]
  },
  {
   "cell_type": "code",
   "execution_count": 154,
   "metadata": {},
   "outputs": [],
   "source": [
    "import pandas as pd\n",
    "import re\n",
    "import datetime\n",
    "import matplotlib.pyplot as plt"
   ]
  },
  {
   "cell_type": "code",
   "execution_count": 155,
   "metadata": {},
   "outputs": [],
   "source": [
    "path = '/Users/vitalybakhvalov/Downloads/Копия Пульс.xlsx'"
   ]
  },
  {
   "cell_type": "code",
   "execution_count": 156,
   "metadata": {},
   "outputs": [],
   "source": [
    "df = pd.read_excel(path)\n",
    "# df.head(2)"
   ]
  },
  {
   "cell_type": "code",
   "execution_count": 157,
   "metadata": {},
   "outputs": [],
   "source": [
    "# df.columns.tolist()"
   ]
  },
  {
   "cell_type": "code",
   "execution_count": 158,
   "metadata": {},
   "outputs": [],
   "source": [
    "d2 = df[['ЖК','Средняя цена прайс-листа (2019.06), руб./кв.м.','Продано в рынок\\n(за 6 месяцев), шт.',  'Продано в рынок\\n(за 6 месяцев), кв.м',]]\n",
    "# d2.head()"
   ]
  },
  {
   "cell_type": "markdown",
   "metadata": {},
   "source": [
    "## Задаем классы"
   ]
  },
  {
   "cell_type": "code",
   "execution_count": 159,
   "metadata": {},
   "outputs": [],
   "source": [
    "def typer(x):\n",
    "    if x <= 295000:\n",
    "        return 'low'\n",
    "    elif x > 295000 and x < 400000:\n",
    "        return 'medium'\n",
    "    else:\n",
    "        return 'high'"
   ]
  },
  {
   "cell_type": "code",
   "execution_count": 160,
   "metadata": {},
   "outputs": [],
   "source": [
    "d2['Класс'] = d2.apply(lambda x: typer(x['Средняя цена прайс-листа (2019.06), руб./кв.м.']), axis =  1);\n",
    "# d2.head()"
   ]
  },
  {
   "cell_type": "markdown",
   "metadata": {},
   "source": [
    "# Продажи по классам в первом полугодии"
   ]
  },
  {
   "cell_type": "code",
   "execution_count": 161,
   "metadata": {},
   "outputs": [
    {
     "data": {
      "text/html": [
       "<div>\n",
       "<style scoped>\n",
       "    .dataframe tbody tr th:only-of-type {\n",
       "        vertical-align: middle;\n",
       "    }\n",
       "\n",
       "    .dataframe tbody tr th {\n",
       "        vertical-align: top;\n",
       "    }\n",
       "\n",
       "    .dataframe thead th {\n",
       "        text-align: right;\n",
       "    }\n",
       "</style>\n",
       "<table border=\"1\" class=\"dataframe\">\n",
       "  <thead>\n",
       "    <tr style=\"text-align: right;\">\n",
       "      <th></th>\n",
       "      <th>Класс</th>\n",
       "      <th>Продано в рынок\n",
       "(за 6 месяцев), шт.</th>\n",
       "      <th>Продано в рынок\n",
       "(за 6 месяцев), кв.м</th>\n",
       "    </tr>\n",
       "  </thead>\n",
       "  <tbody>\n",
       "    <tr>\n",
       "      <th>0</th>\n",
       "      <td>low</td>\n",
       "      <td>24986</td>\n",
       "      <td>1374549</td>\n",
       "    </tr>\n",
       "    <tr>\n",
       "      <th>1</th>\n",
       "      <td>medium</td>\n",
       "      <td>1169</td>\n",
       "      <td>86067</td>\n",
       "    </tr>\n",
       "    <tr>\n",
       "      <th>2</th>\n",
       "      <td>high</td>\n",
       "      <td>732</td>\n",
       "      <td>75873</td>\n",
       "    </tr>\n",
       "  </tbody>\n",
       "</table>\n",
       "</div>"
      ],
      "text/plain": [
       "    Класс  Продано в рынок\\n(за 6 месяцев), шт.  \\\n",
       "0     low                                 24986   \n",
       "1  medium                                  1169   \n",
       "2    high                                   732   \n",
       "\n",
       "   Продано в рынок\\n(за 6 месяцев), кв.м  \n",
       "0                                1374549  \n",
       "1                                  86067  \n",
       "2                                  75873  "
      ]
     },
     "execution_count": 161,
     "metadata": {},
     "output_type": "execute_result"
    }
   ],
   "source": [
    "d3 = d2.drop('Средняя цена прайс-листа (2019.06), руб./кв.м.', axis = 1)\\\n",
    "    .groupby('Класс').sum().sort_values(by='Продано в рынок\\n(за 6 месяцев), шт.', ascending = 0).reset_index()\n",
    "d3"
   ]
  },
  {
   "cell_type": "markdown",
   "metadata": {},
   "source": [
    "# Лидеры продаж в классе Medium"
   ]
  },
  {
   "cell_type": "code",
   "execution_count": 162,
   "metadata": {},
   "outputs": [
    {
     "data": {
      "text/html": [
       "<div>\n",
       "<style scoped>\n",
       "    .dataframe tbody tr th:only-of-type {\n",
       "        vertical-align: middle;\n",
       "    }\n",
       "\n",
       "    .dataframe tbody tr th {\n",
       "        vertical-align: top;\n",
       "    }\n",
       "\n",
       "    .dataframe thead th {\n",
       "        text-align: right;\n",
       "    }\n",
       "</style>\n",
       "<table border=\"1\" class=\"dataframe\">\n",
       "  <thead>\n",
       "    <tr style=\"text-align: right;\">\n",
       "      <th></th>\n",
       "      <th>ЖК</th>\n",
       "      <th>Средняя цена прайс-листа (2019.06), руб./кв.м.</th>\n",
       "      <th>Продано в рынок\n",
       "(за 6 месяцев), шт.</th>\n",
       "      <th>Продано в рынок\n",
       "(за 6 месяцев), кв.м</th>\n",
       "      <th>Класс</th>\n",
       "    </tr>\n",
       "  </thead>\n",
       "  <tbody>\n",
       "    <tr>\n",
       "      <th>46</th>\n",
       "      <td>Небо</td>\n",
       "      <td>303400.0</td>\n",
       "      <td>328</td>\n",
       "      <td>25361</td>\n",
       "      <td>medium</td>\n",
       "    </tr>\n",
       "    <tr>\n",
       "      <th>38</th>\n",
       "      <td>CITY PARK</td>\n",
       "      <td>344000.0</td>\n",
       "      <td>232</td>\n",
       "      <td>18716</td>\n",
       "      <td>medium</td>\n",
       "    </tr>\n",
       "    <tr>\n",
       "      <th>59</th>\n",
       "      <td>Prime Park</td>\n",
       "      <td>311500.0</td>\n",
       "      <td>170</td>\n",
       "      <td>13394</td>\n",
       "      <td>medium</td>\n",
       "    </tr>\n",
       "    <tr>\n",
       "      <th>95</th>\n",
       "      <td>Новочеремушкинская, 17</td>\n",
       "      <td>318800.0</td>\n",
       "      <td>95</td>\n",
       "      <td>6369</td>\n",
       "      <td>medium</td>\n",
       "    </tr>\n",
       "    <tr>\n",
       "      <th>105</th>\n",
       "      <td>JAZZ</td>\n",
       "      <td>351800.0</td>\n",
       "      <td>76</td>\n",
       "      <td>5910</td>\n",
       "      <td>medium</td>\n",
       "    </tr>\n",
       "    <tr>\n",
       "      <th>119</th>\n",
       "      <td>Level Павелецкая</td>\n",
       "      <td>295100.0</td>\n",
       "      <td>57</td>\n",
       "      <td>3473</td>\n",
       "      <td>medium</td>\n",
       "    </tr>\n",
       "    <tr>\n",
       "      <th>133</th>\n",
       "      <td>Вавилов ДОМ</td>\n",
       "      <td>333700.0</td>\n",
       "      <td>54</td>\n",
       "      <td>3488</td>\n",
       "      <td>medium</td>\n",
       "    </tr>\n",
       "    <tr>\n",
       "      <th>39</th>\n",
       "      <td>Spires</td>\n",
       "      <td>390100.0</td>\n",
       "      <td>46</td>\n",
       "      <td>2984</td>\n",
       "      <td>medium</td>\n",
       "    </tr>\n",
       "    <tr>\n",
       "      <th>124</th>\n",
       "      <td>JAZZ</td>\n",
       "      <td>297500.0</td>\n",
       "      <td>32</td>\n",
       "      <td>1102</td>\n",
       "      <td>medium</td>\n",
       "    </tr>\n",
       "    <tr>\n",
       "      <th>136</th>\n",
       "      <td>Прайм Тайм</td>\n",
       "      <td>321600.0</td>\n",
       "      <td>27</td>\n",
       "      <td>1676</td>\n",
       "      <td>medium</td>\n",
       "    </tr>\n",
       "  </tbody>\n",
       "</table>\n",
       "</div>"
      ],
      "text/plain": [
       "                         ЖК  Средняя цена прайс-листа (2019.06), руб./кв.м.  \\\n",
       "46                     Небо                                        303400.0   \n",
       "38                CITY PARK                                        344000.0   \n",
       "59               Prime Park                                        311500.0   \n",
       "95   Новочеремушкинская, 17                                        318800.0   \n",
       "105                    JAZZ                                        351800.0   \n",
       "119        Level Павелецкая                                        295100.0   \n",
       "133             Вавилов ДОМ                                        333700.0   \n",
       "39                   Spires                                        390100.0   \n",
       "124                    JAZZ                                        297500.0   \n",
       "136              Прайм Тайм                                        321600.0   \n",
       "\n",
       "     Продано в рынок\\n(за 6 месяцев), шт.  \\\n",
       "46                                    328   \n",
       "38                                    232   \n",
       "59                                    170   \n",
       "95                                     95   \n",
       "105                                    76   \n",
       "119                                    57   \n",
       "133                                    54   \n",
       "39                                     46   \n",
       "124                                    32   \n",
       "136                                    27   \n",
       "\n",
       "     Продано в рынок\\n(за 6 месяцев), кв.м   Класс  \n",
       "46                                   25361  medium  \n",
       "38                                   18716  medium  \n",
       "59                                   13394  medium  \n",
       "95                                    6369  medium  \n",
       "105                                   5910  medium  \n",
       "119                                   3473  medium  \n",
       "133                                   3488  medium  \n",
       "39                                    2984  medium  \n",
       "124                                   1102  medium  \n",
       "136                                   1676  medium  "
      ]
     },
     "execution_count": 162,
     "metadata": {},
     "output_type": "execute_result"
    }
   ],
   "source": [
    "d2[d2['Класс'] == 'medium'].sort_values(by='Продано в рынок\\n(за 6 месяцев), шт.', ascending = 0).head(10)"
   ]
  },
  {
   "cell_type": "code",
   "execution_count": null,
   "metadata": {},
   "outputs": [],
   "source": []
  },
  {
   "cell_type": "code",
   "execution_count": 163,
   "metadata": {},
   "outputs": [
    {
     "data": {
      "image/png": "[encoded data removed]",
      "text/plain": [
       "<Figure size 360x360 with 1 Axes>"
      ]
     },
     "metadata": {},
     "output_type": "display_data"
    },
    {
     "data": {
      "image/png": "[encoded data removed]",
      "text/plain": [
       "<Figure size 360x360 with 1 Axes>"
      ]
     },
     "metadata": {},
     "output_type": "display_data"
    }
   ],
   "source": [
    "d3.plot.pie(y = 'Продано в рынок\\n(за 6 месяцев), шт.', figsize=(5, 5), labels=d3['Класс'],  autopct='%1.1f%%');\n",
    "d3.plot.pie(y = 'Продано в рынок\\n(за 6 месяцев), кв.м', figsize=(5, 5), labels=d3['Класс'],  autopct='%1.1f%%');"
   ]
  },
  {
   "cell_type": "code",
   "execution_count": 164,
   "metadata": {},
   "outputs": [],
   "source": [
    "# plt.figure(figsize=(16,8))\n",
    "# # plot chart\n",
    "# ax1 = plt.subplot(121, aspect='equal')\n",
    "\n",
    "# d3.plot(kind='pie', y = 'Продано в рынок\\n(за 6 месяцев), шт.', ax=ax1, autopct='%1.1f%%', \n",
    "#  startangle=90, shadow=False, labels=d3['Класс'], legend = False, fontsize=14);\n"
   ]
  },
  {
   "cell_type": "code",
   "execution_count": null,
   "metadata": {},
   "outputs": [],
   "source": []
  },
  {
   "cell_type": "code",
   "execution_count": null,
   "metadata": {},
   "outputs": [],
   "source": []
  },
  {
   "cell_type": "code",
   "execution_count": null,
   "metadata": {},
   "outputs": [],
   "source": []
  }
 ],
 "metadata": {
  "kernelspec": {
   "display_name": "Python 3",
   "language": "python",
   "name": "python3"
  },
  "language_info": {
   "codemirror_mode": {
    "name": "ipython",
    "version": 3
   },
   "file_extension": ".py",
   "mimetype": "text/x-python",
   "name": "python",
   "nbconvert_exporter": "python",
   "pygments_lexer": "ipython3",
   "version": "3.6.5"
  }
 },
 "nbformat": 4,
 "nbformat_minor": 2
}
